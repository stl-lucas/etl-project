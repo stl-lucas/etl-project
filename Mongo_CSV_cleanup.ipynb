{
 "cells": [
  {
   "cell_type": "markdown",
   "metadata": {},
   "source": [
    "<h1>ETL Project Notebook # 3</h1>\n",
    "<h3>Authors: John Jostes and Tim Lucas</h3>\n",
    "<p>When importing the csv from our second notebook we ran into issues with columns that contained comma seperated strings. Mongo import doesn't like this and offset our data. In this notebook we are changing those comma seperated strings to lists and writing to a new csv that is better suited for a mongo import.</p>"
   ]
  },
  {
   "cell_type": "code",
   "execution_count": 70,
   "metadata": {},
   "outputs": [],
   "source": [
    "import pandas as pd"
   ]
  },
  {
   "cell_type": "code",
   "execution_count": 71,
   "metadata": {},
   "outputs": [],
   "source": [
    "data_file = 'Output/final_movies.csv'\n",
    "data_df = pd.read_csv(data_file)"
   ]
  },
  {
   "cell_type": "code",
   "execution_count": 72,
   "metadata": {},
   "outputs": [],
   "source": [
    "# Split comma seperated columns into lists\n",
    "data_df['genres'] = data_df['genres'].str.split(',')\n",
    "data_df['country'] = data_df['country'].str.split(', ')\n",
    "data_df['writers'] = data_df['writers'].str.split(', ')\n",
    "data_df['director'] = data_df['director'].str.split(', ')\n",
    "data_df['actors'] = data_df['actors'].str.split(', ')"
   ]
  },
  {
   "cell_type": "code",
   "execution_count": 73,
   "metadata": {},
   "outputs": [],
   "source": [
    "# Remove ratings column\n",
    "del data_df['ratings']"
   ]
  },
  {
   "cell_type": "code",
   "execution_count": 74,
   "metadata": {},
   "outputs": [],
   "source": [
    "# Write to CSV for new import file\n",
    "data_df.to_json(\"Output/db_import_file.json\", orient='records')"
   ]
  },
  {
   "cell_type": "code",
   "execution_count": null,
   "metadata": {},
   "outputs": [],
   "source": []
  }
 ],
 "metadata": {
  "kernelspec": {
   "display_name": "Python 3",
   "language": "python",
   "name": "python3"
  },
  "language_info": {
   "codemirror_mode": {
    "name": "ipython",
    "version": 3
   },
   "file_extension": ".py",
   "mimetype": "text/x-python",
   "name": "python",
   "nbconvert_exporter": "python",
   "pygments_lexer": "ipython3",
   "version": "3.8.1"
  }
 },
 "nbformat": 4,
 "nbformat_minor": 4
}
