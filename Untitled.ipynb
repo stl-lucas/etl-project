version https://git-lfs.github.com/spec/v1
oid sha256:10423fd8d2027c3ab3e2e8c1cc50d496cfb23892564ba83a6c7c0172d87983a8
size 14333
