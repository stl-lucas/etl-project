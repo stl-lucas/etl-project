version https://git-lfs.github.com/spec/v1
oid sha256:9e0ede07ab12013c9a4e2a4e6083529acd279578ebdd111d4699b8b568d90cf6
size 8410
