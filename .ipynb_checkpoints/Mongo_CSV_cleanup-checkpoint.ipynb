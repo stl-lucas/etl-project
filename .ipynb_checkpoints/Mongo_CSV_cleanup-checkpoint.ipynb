{
 "cells": [
  {
   "cell_type": "markdown",
   "metadata": {},
   "source": [
    "<h1>ETL Project Notebook # 3</h1>\n",
    "<h3>Authors: John Jostes and Tim Lucas</h3>\n",
    "<p>In this notebook we are reading in the CSV files we created from extracting and transforming the IMDB TSV files. Using that data frame we will hit the OMDB API for each movie and collect additional information. That info will be placed into a new data frame, merged with original data frame, then cleaned up for export to a new CSV file and ready for loading into a DB.</p>"
   ]
  },
  {
   "cell_type": "code",
   "execution_count": 114,
   "metadata": {},
   "outputs": [],
   "source": [
    "import pandas as pd"
   ]
  },
  {
   "cell_type": "code",
   "execution_count": 115,
   "metadata": {},
   "outputs": [],
   "source": [
    "data_file = 'Output/final_movies.csv'\n",
    "data_df = pd.read_csv(data_file)"
   ]
  },
  {
   "cell_type": "code",
   "execution_count": 116,
   "metadata": {},
   "outputs": [],
   "source": [
    "# Create lists to store values from Data Frame columns that contain comma seperated values\n",
    "\n",
    "genres = []\n",
    "countries = []\n",
    "actors = []\n",
    "writers = []\n",
    "directors = []\n",
    "\n",
    "for index, row in data_df.iterrows():\n",
    "    genres.append(row['genres'])\n",
    "    countries.append(row['country'])\n",
    "    actors.append(row['actors'])\n",
    "    writers.append(row['writers'])\n",
    "    directors.append(row['director'])"
   ]
  },
  {
   "cell_type": "code",
   "execution_count": 117,
   "metadata": {},
   "outputs": [],
   "source": [
    "# Create lists to transform and store our strings into lists\n",
    "\n",
    "list_genre = []\n",
    "list_countries = []\n",
    "list_actors = []\n",
    "list_writers = []\n",
    "list_directors = []\n",
    "\n",
    "for genre in genres:\n",
    "    list_genre.append(str(genre).split(','))\n",
    "for country in countries:\n",
    "    list_countries.append(str(country).split(','))\n",
    "for actor in actors:\n",
    "    list_actors.append(str(actor).split(','))\n",
    "for writer in writers:\n",
    "    list_writers.append(str(writer).split(','))\n",
    "for director in directors:\n",
    "    list_directors.append(str(director).split(','))"
   ]
  },
  {
   "cell_type": "code",
   "execution_count": 118,
   "metadata": {},
   "outputs": [],
   "source": [
    "# Add new columns to Data Frame using lists of comma seperated strings\n",
    "\n",
    "data_df['genre_list'] = list_genre\n",
    "data_df['country_list'] = list_countries\n",
    "data_df['actor_list'] = list_actors\n",
    "data_df['writer_list'] = list_writers\n",
    "data_df['director_list'] = list_directors"
   ]
  },
  {
   "cell_type": "code",
   "execution_count": 119,
   "metadata": {},
   "outputs": [],
   "source": [
    "# Remove origanal columns no longer needed\n",
    "data_df = data_df.drop(['country', 'actors', 'director', 'writers', 'genres'], axis=1)"
   ]
  },
  {
   "cell_type": "code",
   "execution_count": 120,
   "metadata": {},
   "outputs": [],
   "source": [
    "# Rename lists columns to original column names\n",
    "data_df = data_df.rename(columns={'genre_list': 'genres', 'actor_list': 'actors', 'writer_list': 'writers', \n",
    "                        'country_list': 'countries', 'director_list': 'directors'})"
   ]
  },
  {
   "cell_type": "code",
   "execution_count": 121,
   "metadata": {},
   "outputs": [],
   "source": [
    "# Reorder columns to original order\n",
    "data_df = data_df[['id', 'title', 'release_date', 'year', 'runtime', 'genres', 'rated', 'countries', 'actors', 'directors', 'writers', 'awards', 'box_office', 'ratings']]"
   ]
  },
  {
   "cell_type": "code",
   "execution_count": 122,
   "metadata": {},
   "outputs": [],
   "source": [
    "# Write to CSV for new import file\n",
    "data_df.to_csv(\"Output/db_import_file.csv\")"
   ]
  }
 ],
 "metadata": {
  "kernelspec": {
   "display_name": "Python 3",
   "language": "python",
   "name": "python3"
  },
  "language_info": {
   "codemirror_mode": {
    "name": "ipython",
    "version": 3
   },
   "file_extension": ".py",
   "mimetype": "text/x-python",
   "name": "python",
   "nbconvert_exporter": "python",
   "pygments_lexer": "ipython3",
   "version": "3.8.1"
  }
 },
 "nbformat": 4,
 "nbformat_minor": 4
}
