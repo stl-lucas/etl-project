version https://git-lfs.github.com/spec/v1
oid sha256:6735afe853f339865ffa6d90c6a4c5648899c29bf28579c8e5e199aa5da2a059
size 23182
