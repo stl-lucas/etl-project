version https://git-lfs.github.com/spec/v1
oid sha256:5fc39817452d2633da971bf4c4799b1786d68b1429d7ff0c872e0b39bdcfb04e
size 555
